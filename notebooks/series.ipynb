{
 "cells": [
  {
   "cell_type": "code",
   "execution_count": 1,
   "metadata": {},
   "outputs": [
    {
     "data": {
      "text/html": [
       "<div>\n",
       "<style scoped>\n",
       "    .dataframe tbody tr th:only-of-type {\n",
       "        vertical-align: middle;\n",
       "    }\n",
       "\n",
       "    .dataframe tbody tr th {\n",
       "        vertical-align: top;\n",
       "    }\n",
       "\n",
       "    .dataframe thead th {\n",
       "        text-align: right;\n",
       "    }\n",
       "</style>\n",
       "<table border=\"1\" class=\"dataframe\">\n",
       "  <thead>\n",
       "    <tr style=\"text-align: right;\">\n",
       "      <th></th>\n",
       "      <th>series_id</th>\n",
       "      <th>title</th>\n",
       "      <th>popularity</th>\n",
       "      <th>score</th>\n",
       "      <th>image_url</th>\n",
       "      <th>episodes</th>\n",
       "      <th>seasons</th>\n",
       "      <th>synopsis</th>\n",
       "      <th>value</th>\n",
       "      <th>position</th>\n",
       "    </tr>\n",
       "  </thead>\n",
       "  <tbody>\n",
       "    <tr>\n",
       "      <th>11192</th>\n",
       "      <td>11192</td>\n",
       "      <td>Fullmetal Alchemist: Brotherhood</td>\n",
       "      <td>2425872</td>\n",
       "      <td>9.170000</td>\n",
       "      <td>https://cdn.myanimelist.net/images/anime/1223/...</td>\n",
       "      <td>64</td>\n",
       "      <td>1</td>\n",
       "      <td>\"In order for something to be obtained, someth...</td>\n",
       "      <td>4.0</td>\n",
       "      <td>1</td>\n",
       "    </tr>\n",
       "    <tr>\n",
       "      <th>4631</th>\n",
       "      <td>4631</td>\n",
       "      <td>Hunter x Hunter (2011)</td>\n",
       "      <td>1884692</td>\n",
       "      <td>9.080000</td>\n",
       "      <td>https://cdn.myanimelist.net/images/anime/11/33...</td>\n",
       "      <td>148</td>\n",
       "      <td>1</td>\n",
       "      <td>Hunter x Hunter is set in a world where Hunter...</td>\n",
       "      <td>13.0</td>\n",
       "      <td>2</td>\n",
       "    </tr>\n",
       "    <tr>\n",
       "      <th>8272</th>\n",
       "      <td>8272</td>\n",
       "      <td>Kimi no Na wa.</td>\n",
       "      <td>1916118</td>\n",
       "      <td>8.930000</td>\n",
       "      <td>https://cdn.myanimelist.net/images/anime/5/870...</td>\n",
       "      <td>1</td>\n",
       "      <td>1</td>\n",
       "      <td>Mitsuha Miyamizu, a high school girl, yearns t...</td>\n",
       "      <td>14.0</td>\n",
       "      <td>3</td>\n",
       "    </tr>\n",
       "    <tr>\n",
       "      <th>4080</th>\n",
       "      <td>4080</td>\n",
       "      <td>Steins;Gate</td>\n",
       "      <td>1909826</td>\n",
       "      <td>8.900681</td>\n",
       "      <td>https://cdn.myanimelist.net/images/anime/5/731...</td>\n",
       "      <td>26</td>\n",
       "      <td>3</td>\n",
       "      <td>The self-proclaimed mad scientist Rintarou Oka...</td>\n",
       "      <td>16.0</td>\n",
       "      <td>4</td>\n",
       "    </tr>\n",
       "    <tr>\n",
       "      <th>5297</th>\n",
       "      <td>5297</td>\n",
       "      <td>Shingeki no Kyojin</td>\n",
       "      <td>2799964</td>\n",
       "      <td>8.676964</td>\n",
       "      <td>https://cdn.myanimelist.net/images/anime/10/47...</td>\n",
       "      <td>75</td>\n",
       "      <td>5</td>\n",
       "      <td>Centuries ago, mankind was slaughtered to near...</td>\n",
       "      <td>18.0</td>\n",
       "      <td>5</td>\n",
       "    </tr>\n",
       "  </tbody>\n",
       "</table>\n",
       "</div>"
      ],
      "text/plain": [
       "       series_id                             title  popularity     score  \\\n",
       "11192      11192  Fullmetal Alchemist: Brotherhood     2425872  9.170000   \n",
       "4631        4631            Hunter x Hunter (2011)     1884692  9.080000   \n",
       "8272        8272                    Kimi no Na wa.     1916118  8.930000   \n",
       "4080        4080                       Steins;Gate     1909826  8.900681   \n",
       "5297        5297                Shingeki no Kyojin     2799964  8.676964   \n",
       "\n",
       "                                               image_url  episodes  seasons  \\\n",
       "11192  https://cdn.myanimelist.net/images/anime/1223/...        64        1   \n",
       "4631   https://cdn.myanimelist.net/images/anime/11/33...       148        1   \n",
       "8272   https://cdn.myanimelist.net/images/anime/5/870...         1        1   \n",
       "4080   https://cdn.myanimelist.net/images/anime/5/731...        26        3   \n",
       "5297   https://cdn.myanimelist.net/images/anime/10/47...        75        5   \n",
       "\n",
       "                                                synopsis  value  position  \n",
       "11192  \"In order for something to be obtained, someth...    4.0         1  \n",
       "4631   Hunter x Hunter is set in a world where Hunter...   13.0         2  \n",
       "8272   Mitsuha Miyamizu, a high school girl, yearns t...   14.0         3  \n",
       "4080   The self-proclaimed mad scientist Rintarou Oka...   16.0         4  \n",
       "5297   Centuries ago, mankind was slaughtered to near...   18.0         5  "
      ]
     },
     "execution_count": 1,
     "metadata": {},
     "output_type": "execute_result"
    }
   ],
   "source": [
    "import pandas as pd\n",
    "\n",
    "series = pd.read_json('../data/series.json')\n",
    "series['value'] = series.score.rank(ascending=False) + series.popularity.rank(ascending=False)\n",
    "series.sort_values('value', inplace=True)\n",
    "series['position'] = range(1, series.shape[0]+1)\n",
    "\n",
    "series.head()"
   ]
  },
  {
   "cell_type": "code",
   "execution_count": 7,
   "metadata": {},
   "outputs": [
    {
     "data": {
      "text/plain": [
       "{'series_id': 11192,\n",
       " 'title': 'Fullmetal Alchemist: Brotherhood',\n",
       " 'popularity': 2425872,\n",
       " 'score': 9.17,\n",
       " 'image_url': 'https://cdn.myanimelist.net/images/anime/1223/96541.jpg',\n",
       " 'episodes': 64,\n",
       " 'seasons': 1,\n",
       " 'synopsis': '\"In order for something to be obtained, something of equal value must be lost.\" Alchemy is bound by this Law of Equivalent Exchange—something the young brothers Edward and Alphonse Elric only realize after attempting human transmutation: the one forbidden act of alchemy. They pay a terrible price for their transgression—Edward loses his left leg, Alphonse his physical body. It is only by the desperate sacrifice of Edward\\'s right arm that he is able to affix Alphonse\\'s soul to a suit of armor. Devastated and alone, it is the hope that they would both eventually return to their original bodies that gives Edward the inspiration to obtain metal limbs called \"automail\" and become a state alchemist, the Fullmetal Alchemist. Three years of searching later, the brothers seek the Philosopher\\'s Stone, a mythical relic that allows an alchemist to overcome the Law of Equivalent Exchange. Even with military allies Colonel Roy Mustang, Lieutenant Riza Hawkeye, and Lieutenant Colonel Maes Hughes on their side, the brothers find themselves caught up in a nationwide conspiracy that leads them not only to the true nature of the elusive Philosopher\\'s Stone, but their country\\'s murky history as well. In between finding a serial killer and racing against time, Edward and Alphonse must ask themselves if what they are doing will make them human again... or take away their humanity. [Written by MAL Rewrite]',\n",
       " 'value': 4.0,\n",
       " 'position': 1}"
      ]
     },
     "execution_count": 7,
     "metadata": {},
     "output_type": "execute_result"
    }
   ],
   "source": [
    "series_id = 0\n",
    "series.iloc[series_id].to_dict()"
   ]
  },
  {
   "cell_type": "code",
   "execution_count": null,
   "metadata": {},
   "outputs": [],
   "source": []
  }
 ],
 "metadata": {
  "interpreter": {
   "hash": "ad2117d8da04c720903da65ba8862d63b2fb82849cd17efbeca69c80f28b43db"
  },
  "kernelspec": {
   "display_name": "Python 3.10.1 64-bit",
   "language": "python",
   "name": "python3"
  },
  "language_info": {
   "codemirror_mode": {
    "name": "ipython",
    "version": 3
   },
   "file_extension": ".py",
   "mimetype": "text/x-python",
   "name": "python",
   "nbconvert_exporter": "python",
   "pygments_lexer": "ipython3",
   "version": "3.10.1"
  },
  "orig_nbformat": 4
 },
 "nbformat": 4,
 "nbformat_minor": 2
}
