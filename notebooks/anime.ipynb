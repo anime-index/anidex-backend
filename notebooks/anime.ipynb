{
 "cells": [
  {
   "cell_type": "code",
   "execution_count": 1,
   "metadata": {},
   "outputs": [
    {
     "data": {
      "text/html": [
       "<div>\n",
       "<style scoped>\n",
       "    .dataframe tbody tr th:only-of-type {\n",
       "        vertical-align: middle;\n",
       "    }\n",
       "\n",
       "    .dataframe tbody tr th {\n",
       "        vertical-align: top;\n",
       "    }\n",
       "\n",
       "    .dataframe thead th {\n",
       "        text-align: right;\n",
       "    }\n",
       "</style>\n",
       "<table border=\"1\" class=\"dataframe\">\n",
       "  <thead>\n",
       "    <tr style=\"text-align: right;\">\n",
       "      <th></th>\n",
       "      <th>mal_id</th>\n",
       "      <th>url</th>\n",
       "      <th>image_url</th>\n",
       "      <th>trailer_url</th>\n",
       "      <th>title</th>\n",
       "      <th>title_en</th>\n",
       "      <th>title_jp</th>\n",
       "      <th>title_synonyms</th>\n",
       "      <th>type</th>\n",
       "      <th>source</th>\n",
       "      <th>...</th>\n",
       "      <th>mal_popularity</th>\n",
       "      <th>mal_members</th>\n",
       "      <th>mal_favorites</th>\n",
       "      <th>related</th>\n",
       "      <th>producers</th>\n",
       "      <th>licensors</th>\n",
       "      <th>studios</th>\n",
       "      <th>genres</th>\n",
       "      <th>opening_themes</th>\n",
       "      <th>ending_themes</th>\n",
       "    </tr>\n",
       "  </thead>\n",
       "  <tbody>\n",
       "    <tr>\n",
       "      <th>0</th>\n",
       "      <td>1</td>\n",
       "      <td>https://myanimelist.net/anime/1/Cowboy_Bebop</td>\n",
       "      <td>https://cdn.myanimelist.net/images/anime/4/196...</td>\n",
       "      <td>https://www.youtube.com/embed/qig4KOK2R2g?enab...</td>\n",
       "      <td>Cowboy Bebop</td>\n",
       "      <td>Cowboy Bebop</td>\n",
       "      <td>カウボーイビバップ</td>\n",
       "      <td>[]</td>\n",
       "      <td>TV</td>\n",
       "      <td>Original</td>\n",
       "      <td>...</td>\n",
       "      <td>42</td>\n",
       "      <td>1345609</td>\n",
       "      <td>59329</td>\n",
       "      <td>{'Adaptation': [{'mal_id': 173, 'type': 'manga...</td>\n",
       "      <td>[{'mal_id': 23, 'type': 'anime', 'name': 'Band...</td>\n",
       "      <td>[{'mal_id': 102, 'type': 'anime', 'name': 'Fun...</td>\n",
       "      <td>[{'mal_id': 14, 'type': 'anime', 'name': 'Sunr...</td>\n",
       "      <td>[Action, Adventure, Comedy, Drama, Sci-Fi, Space]</td>\n",
       "      <td>[\"Tank!\" by The Seatbelts (eps 1-25)]</td>\n",
       "      <td>[#1: \"The Real Folk Blues\" by The Seatbelts fe...</td>\n",
       "    </tr>\n",
       "  </tbody>\n",
       "</table>\n",
       "<p>1 rows × 34 columns</p>\n",
       "</div>"
      ],
      "text/plain": [
       "   mal_id                                           url  \\\n",
       "0       1  https://myanimelist.net/anime/1/Cowboy_Bebop   \n",
       "\n",
       "                                           image_url  \\\n",
       "0  https://cdn.myanimelist.net/images/anime/4/196...   \n",
       "\n",
       "                                         trailer_url         title  \\\n",
       "0  https://www.youtube.com/embed/qig4KOK2R2g?enab...  Cowboy Bebop   \n",
       "\n",
       "       title_en   title_jp title_synonyms type    source  ...  mal_popularity  \\\n",
       "0  Cowboy Bebop  カウボーイビバップ             []   TV  Original  ...              42   \n",
       "\n",
       "  mal_members  mal_favorites  \\\n",
       "0     1345609          59329   \n",
       "\n",
       "                                             related  \\\n",
       "0  {'Adaptation': [{'mal_id': 173, 'type': 'manga...   \n",
       "\n",
       "                                           producers  \\\n",
       "0  [{'mal_id': 23, 'type': 'anime', 'name': 'Band...   \n",
       "\n",
       "                                           licensors  \\\n",
       "0  [{'mal_id': 102, 'type': 'anime', 'name': 'Fun...   \n",
       "\n",
       "                                             studios  \\\n",
       "0  [{'mal_id': 14, 'type': 'anime', 'name': 'Sunr...   \n",
       "\n",
       "                                              genres  \\\n",
       "0  [Action, Adventure, Comedy, Drama, Sci-Fi, Space]   \n",
       "\n",
       "                          opening_themes  \\\n",
       "0  [\"Tank!\" by The Seatbelts (eps 1-25)]   \n",
       "\n",
       "                                       ending_themes  \n",
       "0  [#1: \"The Real Folk Blues\" by The Seatbelts fe...  \n",
       "\n",
       "[1 rows x 34 columns]"
      ]
     },
     "execution_count": 1,
     "metadata": {},
     "output_type": "execute_result"
    }
   ],
   "source": [
    "import pandas as pd\n",
    "\n",
    "anime = pd.read_json('../data/animes.json')\n",
    "\n",
    "anime.mal_score.fillna(0, inplace=True)\n",
    "anime.episodes.fillna(0, inplace=True)\n",
    "anime.synopsis.fillna('No synopsis', inplace=True)\n",
    "anime.aired_start.fillna('2000-10-09T00:00:00+00:00', inplace=True)\n",
    "\n",
    "anime['genres'] = anime['genres'].apply(lambda x: list(genre['name'] for genre in x))\n",
    "\n",
    "anime.head(1)"
   ]
  },
  {
   "cell_type": "code",
   "execution_count": 5,
   "metadata": {},
   "outputs": [
    {
     "data": {
      "text/plain": [
       "True"
      ]
     },
     "execution_count": 5,
     "metadata": {},
     "output_type": "execute_result"
    }
   ],
   "source": [
    "'Action' in str(anime.iloc[0].genres)"
   ]
  },
  {
   "cell_type": "code",
   "execution_count": 4,
   "metadata": {},
   "outputs": [
    {
     "name": "stdout",
     "output_type": "stream",
     "text": [
      "['Action', 'Adventure', 'Cars', 'Comedy', 'Dementia', 'Demons', 'Drama', 'Ecchi', 'Fantasy', 'Game', 'Harem', 'Hentai', 'Historical', 'Horror', 'Josei', 'Kids', 'Magic', 'Martial Arts', 'Mecha', 'Military', 'Music', 'Mystery', 'Parody', 'Police', 'Psychological', 'Romance', 'Samurai', 'School', 'Sci-Fi', 'Seinen', 'Shoujo', 'Shoujo Ai', 'Shounen', 'Shounen Ai', 'Slice of Life', 'Space', 'Sports', 'Super Power', 'Supernatural', 'Thriller', 'Vampire', 'Yaoi', 'Yuri']\n"
     ]
    }
   ],
   "source": [
    "genres = set()\n",
    "for _, row in anime.iterrows():\n",
    "    for dic in row['genres']:\n",
    "        genres.add(dic)\n",
    "\n",
    "genres = list(genres)\n",
    "\n",
    "print(sorted(genres))"
   ]
  },
  {
   "cell_type": "code",
   "execution_count": 5,
   "metadata": {},
   "outputs": [
    {
     "data": {
      "text/plain": [
       "43"
      ]
     },
     "execution_count": 5,
     "metadata": {},
     "output_type": "execute_result"
    }
   ],
   "source": [
    "len(genres)"
   ]
  },
  {
   "cell_type": "code",
   "execution_count": 11,
   "metadata": {},
   "outputs": [
    {
     "data": {
      "text/html": [
       "<div>\n",
       "<style scoped>\n",
       "    .dataframe tbody tr th:only-of-type {\n",
       "        vertical-align: middle;\n",
       "    }\n",
       "\n",
       "    .dataframe tbody tr th {\n",
       "        vertical-align: top;\n",
       "    }\n",
       "\n",
       "    .dataframe thead th {\n",
       "        text-align: right;\n",
       "    }\n",
       "</style>\n",
       "<table border=\"1\" class=\"dataframe\">\n",
       "  <thead>\n",
       "    <tr style=\"text-align: right;\">\n",
       "      <th></th>\n",
       "      <th>mal_id</th>\n",
       "      <th>title</th>\n",
       "      <th>mal_members</th>\n",
       "      <th>mal_score</th>\n",
       "      <th>image_url</th>\n",
       "      <th>episodes</th>\n",
       "      <th>type</th>\n",
       "      <th>synopsis</th>\n",
       "      <th>aired_start</th>\n",
       "      <th>genres</th>\n",
       "    </tr>\n",
       "  </thead>\n",
       "  <tbody>\n",
       "    <tr>\n",
       "      <th>0</th>\n",
       "      <td>1</td>\n",
       "      <td>Cowboy Bebop</td>\n",
       "      <td>1345609</td>\n",
       "      <td>8.77</td>\n",
       "      <td>https://cdn.myanimelist.net/images/anime/4/196...</td>\n",
       "      <td>26.0</td>\n",
       "      <td>TV</td>\n",
       "      <td>In the year 2071, humanity has colonized sever...</td>\n",
       "      <td>1998-04-03T00:00:00+00:00</td>\n",
       "      <td>[Action, Adventure, Comedy, Drama, Sci-Fi, Space]</td>\n",
       "    </tr>\n",
       "  </tbody>\n",
       "</table>\n",
       "</div>"
      ],
      "text/plain": [
       "   mal_id         title  mal_members  mal_score  \\\n",
       "0       1  Cowboy Bebop      1345609       8.77   \n",
       "\n",
       "                                           image_url  episodes type  \\\n",
       "0  https://cdn.myanimelist.net/images/anime/4/196...      26.0   TV   \n",
       "\n",
       "                                            synopsis  \\\n",
       "0  In the year 2071, humanity has colonized sever...   \n",
       "\n",
       "                 aired_start  \\\n",
       "0  1998-04-03T00:00:00+00:00   \n",
       "\n",
       "                                              genres  \n",
       "0  [Action, Adventure, Comedy, Drama, Sci-Fi, Space]  "
      ]
     },
     "execution_count": 11,
     "metadata": {},
     "output_type": "execute_result"
    }
   ],
   "source": [
    "reduced = ['mal_id', 'title', 'mal_members', 'mal_score', 'image_url', 'episodes', 'type', 'synopsis', 'aired_start', 'genres']\n",
    "\n",
    "anime_reduced = anime[reduced]\n",
    "\n",
    "anime_reduced[anime.mal_members > 1000].to_json('../data/animes_reduced.json', indent=4, orient='records')\n",
    "\n",
    "anime_reduced.head(1)"
   ]
  },
  {
   "cell_type": "code",
   "execution_count": 29,
   "metadata": {},
   "outputs": [
    {
     "data": {
      "text/plain": [
       "0.4"
      ]
     },
     "execution_count": 29,
     "metadata": {},
     "output_type": "execute_result"
    }
   ],
   "source": [
    "from difflib import SequenceMatcher\n",
    "\n",
    "def similar(a, b):\n",
    "    return SequenceMatcher(None, a, b).ratio()\n",
    "\n",
    "similar('shingeki', 'jjajajajshingekiasdfsdfasdfsdfds')"
   ]
  },
  {
   "cell_type": "code",
   "execution_count": 9,
   "metadata": {},
   "outputs": [],
   "source": [
    "import pandas as pd\n",
    "\n",
    "df = pd.read_json('../data/animes.json')\n",
    "\n",
    "reduced = ['mal_id', 'title', 'mal_members', 'mal_score', 'image_url', 'episodes', 'type', 'synopsis', 'aired_start', 'genres']\n",
    "\n",
    "keys = ['url', 'status', 'airing', 'aired_end', 'episode_duration', 'mal_rank', 'mal_popularity']\n",
    "\n",
    "mayb = ['source']\n",
    "\n",
    "nope = ['trailer_url', 'title_en', 'title_jp', 'title_synonyms', 'premiered', 'broadcast', 'background', 'mal_rating', 'mal_reviewer',\n",
    "        'mal_favorites', 'related', 'producers', 'licensors', 'studios', 'opening_themes', 'ending_themes']"
   ]
  },
  {
   "cell_type": "code",
   "execution_count": 16,
   "metadata": {},
   "outputs": [
    {
     "data": {
      "text/plain": [
       "Index(['mal_id', 'url', 'image_url', 'trailer_url', 'title', 'title_en',\n",
       "       'title_jp', 'title_synonyms', 'type', 'source', 'episodes', 'status',\n",
       "       'airing', 'aired_start', 'aired_end', 'premiered', 'broadcast',\n",
       "       'episode_duration', 'synopsis', 'background', 'mal_rating', 'mal_score',\n",
       "       'mal_reviewer', 'mal_rank', 'mal_popularity', 'mal_members',\n",
       "       'mal_favorites', 'related', 'producers', 'licensors', 'studios',\n",
       "       'genres', 'opening_themes', 'ending_themes'],\n",
       "      dtype='object')"
      ]
     },
     "execution_count": 16,
     "metadata": {},
     "output_type": "execute_result"
    }
   ],
   "source": [
    "df.columns"
   ]
  },
  {
   "cell_type": "code",
   "execution_count": 4,
   "metadata": {},
   "outputs": [
    {
     "data": {
      "text/html": [
       "<div>\n",
       "<style scoped>\n",
       "    .dataframe tbody tr th:only-of-type {\n",
       "        vertical-align: middle;\n",
       "    }\n",
       "\n",
       "    .dataframe tbody tr th {\n",
       "        vertical-align: top;\n",
       "    }\n",
       "\n",
       "    .dataframe thead th {\n",
       "        text-align: right;\n",
       "    }\n",
       "</style>\n",
       "<table border=\"1\" class=\"dataframe\">\n",
       "  <thead>\n",
       "    <tr style=\"text-align: right;\">\n",
       "      <th></th>\n",
       "      <th>mal_id</th>\n",
       "      <th>title</th>\n",
       "      <th>mal_popularity</th>\n",
       "      <th>mal_score</th>\n",
       "      <th>image_url</th>\n",
       "      <th>episodes</th>\n",
       "      <th>type</th>\n",
       "      <th>synopsis</th>\n",
       "    </tr>\n",
       "  </thead>\n",
       "  <tbody>\n",
       "    <tr>\n",
       "      <th>0</th>\n",
       "      <td>1</td>\n",
       "      <td>Cowboy Bebop</td>\n",
       "      <td>42</td>\n",
       "      <td>8.77</td>\n",
       "      <td>https://cdn.myanimelist.net/images/anime/4/196...</td>\n",
       "      <td>26.0</td>\n",
       "      <td>TV</td>\n",
       "      <td>In the year 2071, humanity has colonized sever...</td>\n",
       "    </tr>\n",
       "    <tr>\n",
       "      <th>1</th>\n",
       "      <td>5</td>\n",
       "      <td>Cowboy Bebop: Tengoku no Tobira</td>\n",
       "      <td>539</td>\n",
       "      <td>8.39</td>\n",
       "      <td>https://cdn.myanimelist.net/images/anime/1439/...</td>\n",
       "      <td>1.0</td>\n",
       "      <td>Movie</td>\n",
       "      <td>Another day, another bounty—such is the life o...</td>\n",
       "    </tr>\n",
       "    <tr>\n",
       "      <th>2</th>\n",
       "      <td>6</td>\n",
       "      <td>Trigun</td>\n",
       "      <td>211</td>\n",
       "      <td>8.23</td>\n",
       "      <td>https://cdn.myanimelist.net/images/anime/7/203...</td>\n",
       "      <td>26.0</td>\n",
       "      <td>TV</td>\n",
       "      <td>Vash the Stampede is the man with a $$60,000,0...</td>\n",
       "    </tr>\n",
       "    <tr>\n",
       "      <th>3</th>\n",
       "      <td>7</td>\n",
       "      <td>Witch Hunter Robin</td>\n",
       "      <td>1527</td>\n",
       "      <td>7.27</td>\n",
       "      <td>https://cdn.myanimelist.net/images/anime/1796/...</td>\n",
       "      <td>26.0</td>\n",
       "      <td>TV</td>\n",
       "      <td>Witches are individuals with special powers li...</td>\n",
       "    </tr>\n",
       "    <tr>\n",
       "      <th>4</th>\n",
       "      <td>8</td>\n",
       "      <td>Bouken Ou Beet</td>\n",
       "      <td>4486</td>\n",
       "      <td>6.97</td>\n",
       "      <td>https://cdn.myanimelist.net/images/anime/7/215...</td>\n",
       "      <td>52.0</td>\n",
       "      <td>TV</td>\n",
       "      <td>It is the dark century and the people are suff...</td>\n",
       "    </tr>\n",
       "  </tbody>\n",
       "</table>\n",
       "</div>"
      ],
      "text/plain": [
       "   mal_id                            title  mal_popularity  mal_score  \\\n",
       "0       1                     Cowboy Bebop              42       8.77   \n",
       "1       5  Cowboy Bebop: Tengoku no Tobira             539       8.39   \n",
       "2       6                           Trigun             211       8.23   \n",
       "3       7               Witch Hunter Robin            1527       7.27   \n",
       "4       8                   Bouken Ou Beet            4486       6.97   \n",
       "\n",
       "                                           image_url  episodes   type  \\\n",
       "0  https://cdn.myanimelist.net/images/anime/4/196...      26.0     TV   \n",
       "1  https://cdn.myanimelist.net/images/anime/1439/...       1.0  Movie   \n",
       "2  https://cdn.myanimelist.net/images/anime/7/203...      26.0     TV   \n",
       "3  https://cdn.myanimelist.net/images/anime/1796/...      26.0     TV   \n",
       "4  https://cdn.myanimelist.net/images/anime/7/215...      52.0     TV   \n",
       "\n",
       "                                            synopsis  \n",
       "0  In the year 2071, humanity has colonized sever...  \n",
       "1  Another day, another bounty—such is the life o...  \n",
       "2  Vash the Stampede is the man with a $$60,000,0...  \n",
       "3  Witches are individuals with special powers li...  \n",
       "4  It is the dark century and the people are suff...  "
      ]
     },
     "execution_count": 4,
     "metadata": {},
     "output_type": "execute_result"
    }
   ],
   "source": [
    "import pandas as pd\n",
    "\n",
    "anime = pd.read_json('../data/animes_reduced.json')\n",
    "anime.head()"
   ]
  },
  {
   "cell_type": "code",
   "execution_count": null,
   "metadata": {},
   "outputs": [],
   "source": []
  }
 ],
 "metadata": {
  "interpreter": {
   "hash": "ad2117d8da04c720903da65ba8862d63b2fb82849cd17efbeca69c80f28b43db"
  },
  "kernelspec": {
   "display_name": "Python 3.10.1 64-bit",
   "language": "python",
   "name": "python3"
  },
  "language_info": {
   "codemirror_mode": {
    "name": "ipython",
    "version": 3
   },
   "file_extension": ".py",
   "mimetype": "text/x-python",
   "name": "python",
   "nbconvert_exporter": "python",
   "pygments_lexer": "ipython3",
   "version": "3.10.1"
  },
  "orig_nbformat": 4
 },
 "nbformat": 4,
 "nbformat_minor": 2
}
