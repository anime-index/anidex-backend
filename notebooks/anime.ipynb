{
 "cells": [
  {
   "cell_type": "code",
   "execution_count": null,
   "metadata": {},
   "outputs": [],
   "source": [
    "import pandas as pd\n",
    "\n",
    "df = pd.read_json('../data/animes.json')\n",
    "\n",
    "reduced = ['mal_id', 'title', 'mal_popularity', 'mal_score', 'image_url', 'episodes', 'type', 'synopsis']\n",
    "\n",
    "df[reduced].to_json('../data/animes_reduced.json', indent=4, orient='records')"
   ]
  },
  {
   "cell_type": "code",
   "execution_count": 19,
   "metadata": {},
   "outputs": [],
   "source": [
    "import pandas as pd\n",
    "\n",
    "df = pd.read_json('../data/animes.json')\n",
    "\n",
    "keys = ['mal_id', 'url', 'image_url', 'title', 'type', 'episodes', 'status', 'airing', 'aired_start', 'aired_end', 'episode_duration',\n",
    "        'mal_score', 'mal_rank', 'mal_popularity', 'mal_members', 'synopsis']\n",
    "\n",
    "mayb = ['source']\n",
    "\n",
    "nope = ['trailer_url', 'title_en', 'title_jp', 'title_synonyms', 'premiered', 'broadcast', 'background', 'mal_rating', 'mal_reviewer',\n",
    "        'mal_favorites', 'related', 'producers', 'licensors', 'studios', 'genres', 'opening_themes', 'ending_themes']"
   ]
  },
  {
   "cell_type": "code",
   "execution_count": 16,
   "metadata": {},
   "outputs": [
    {
     "data": {
      "text/plain": [
       "Index(['mal_id', 'url', 'image_url', 'trailer_url', 'title', 'title_en',\n",
       "       'title_jp', 'title_synonyms', 'type', 'source', 'episodes', 'status',\n",
       "       'airing', 'aired_start', 'aired_end', 'premiered', 'broadcast',\n",
       "       'episode_duration', 'synopsis', 'background', 'mal_rating', 'mal_score',\n",
       "       'mal_reviewer', 'mal_rank', 'mal_popularity', 'mal_members',\n",
       "       'mal_favorites', 'related', 'producers', 'licensors', 'studios',\n",
       "       'genres', 'opening_themes', 'ending_themes'],\n",
       "      dtype='object')"
      ]
     },
     "execution_count": 16,
     "metadata": {},
     "output_type": "execute_result"
    }
   ],
   "source": [
    "df.columns"
   ]
  },
  {
   "cell_type": "code",
   "execution_count": null,
   "metadata": {},
   "outputs": [],
   "source": []
  }
 ],
 "metadata": {
  "interpreter": {
   "hash": "ad2117d8da04c720903da65ba8862d63b2fb82849cd17efbeca69c80f28b43db"
  },
  "kernelspec": {
   "display_name": "Python 3.10.1 64-bit",
   "language": "python",
   "name": "python3"
  },
  "language_info": {
   "codemirror_mode": {
    "name": "ipython",
    "version": 3
   },
   "file_extension": ".py",
   "mimetype": "text/x-python",
   "name": "python",
   "nbconvert_exporter": "python",
   "pygments_lexer": "ipython3",
   "version": "3.10.1"
  },
  "orig_nbformat": 4
 },
 "nbformat": 4,
 "nbformat_minor": 2
}
