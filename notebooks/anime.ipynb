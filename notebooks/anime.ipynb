{
 "cells": [
  {
   "cell_type": "code",
   "execution_count": 50,
   "metadata": {},
   "outputs": [
    {
     "data": {
      "text/html": [
       "<div>\n",
       "<style scoped>\n",
       "    .dataframe tbody tr th:only-of-type {\n",
       "        vertical-align: middle;\n",
       "    }\n",
       "\n",
       "    .dataframe tbody tr th {\n",
       "        vertical-align: top;\n",
       "    }\n",
       "\n",
       "    .dataframe thead th {\n",
       "        text-align: right;\n",
       "    }\n",
       "</style>\n",
       "<table border=\"1\" class=\"dataframe\">\n",
       "  <thead>\n",
       "    <tr style=\"text-align: right;\">\n",
       "      <th></th>\n",
       "      <th>mal_id</th>\n",
       "      <th>title</th>\n",
       "      <th>mal_members</th>\n",
       "      <th>mal_score</th>\n",
       "      <th>image_url</th>\n",
       "      <th>episodes</th>\n",
       "      <th>type</th>\n",
       "      <th>synopsis</th>\n",
       "      <th>aired_start</th>\n",
       "      <th>genres</th>\n",
       "    </tr>\n",
       "  </thead>\n",
       "  <tbody>\n",
       "    <tr>\n",
       "      <th>0</th>\n",
       "      <td>1</td>\n",
       "      <td>Cowboy Bebop</td>\n",
       "      <td>1345609</td>\n",
       "      <td>8.77</td>\n",
       "      <td>https://cdn.myanimelist.net/images/anime/4/196...</td>\n",
       "      <td>26.0</td>\n",
       "      <td>TV</td>\n",
       "      <td>In the year 2071, humanity has colonized sever...</td>\n",
       "      <td>1998-04-03T00:00:00+00:00</td>\n",
       "      <td>[{'mal_id': 1, 'type': 'anime', 'name': 'Actio...</td>\n",
       "    </tr>\n",
       "  </tbody>\n",
       "</table>\n",
       "</div>"
      ],
      "text/plain": [
       "   mal_id         title  mal_members  mal_score  \\\n",
       "0       1  Cowboy Bebop      1345609       8.77   \n",
       "\n",
       "                                           image_url  episodes type  \\\n",
       "0  https://cdn.myanimelist.net/images/anime/4/196...      26.0   TV   \n",
       "\n",
       "                                            synopsis  \\\n",
       "0  In the year 2071, humanity has colonized sever...   \n",
       "\n",
       "                 aired_start  \\\n",
       "0  1998-04-03T00:00:00+00:00   \n",
       "\n",
       "                                              genres  \n",
       "0  [{'mal_id': 1, 'type': 'anime', 'name': 'Actio...  "
      ]
     },
     "execution_count": 50,
     "metadata": {},
     "output_type": "execute_result"
    }
   ],
   "source": [
    "import pandas as pd\n",
    "\n",
    "df = pd.read_json('../data/animes.json')\n",
    "\n",
    "reduced = ['mal_id', 'title', 'mal_members', 'mal_score', 'image_url', 'episodes', 'type', 'synopsis', 'aired_start', 'genres']\n",
    "\n",
    "df[reduced].to_json('../data/animes_reduced.json', indent=4, orient='records')\n",
    "\n",
    "df[reduced].head(1)"
   ]
  },
  {
   "cell_type": "code",
   "execution_count": 52,
   "metadata": {},
   "outputs": [
    {
     "name": "stdout",
     "output_type": "stream",
     "text": [
      "<class 'pandas.core.frame.DataFrame'>\n",
      "RangeIndex: 18986 entries, 0 to 18985\n",
      "Data columns (total 10 columns):\n",
      " #   Column       Non-Null Count  Dtype  \n",
      "---  ------       --------------  -----  \n",
      " 0   mal_id       18986 non-null  int64  \n",
      " 1   title        18986 non-null  object \n",
      " 2   mal_members  18986 non-null  int64  \n",
      " 3   mal_score    12645 non-null  float64\n",
      " 4   image_url    18986 non-null  object \n",
      " 5   episodes     18602 non-null  float64\n",
      " 6   type         18986 non-null  object \n",
      " 7   synopsis     17912 non-null  object \n",
      " 8   aired_start  17984 non-null  object \n",
      " 9   genres       18986 non-null  object \n",
      "dtypes: float64(2), int64(2), object(6)\n",
      "memory usage: 1.4+ MB\n"
     ]
    }
   ],
   "source": [
    "df[reduced].info()"
   ]
  },
  {
   "cell_type": "code",
   "execution_count": 43,
   "metadata": {},
   "outputs": [
    {
     "data": {
      "text/plain": [
       "(5402, 34)"
      ]
     },
     "execution_count": 43,
     "metadata": {},
     "output_type": "execute_result"
    }
   ],
   "source": [
    "types = ['TV', 'movie']\n",
    "df[df.type.isin(types)].shape"
   ]
  },
  {
   "cell_type": "code",
   "execution_count": 49,
   "metadata": {},
   "outputs": [
    {
     "data": {
      "text/plain": [
       "{'Movie', 'Music', 'ONA', 'OVA', 'Special', 'TV', 'Unknown'}"
      ]
     },
     "execution_count": 49,
     "metadata": {},
     "output_type": "execute_result"
    }
   ],
   "source": [
    "set(df.type.values)"
   ]
  },
  {
   "cell_type": "code",
   "execution_count": 38,
   "metadata": {},
   "outputs": [
    {
     "data": {
      "text/plain": [
       "0        0.137931\n",
       "1        0.125000\n",
       "2        0.260870\n",
       "3        0.400000\n",
       "4        0.193548\n",
       "           ...   \n",
       "18981    0.341463\n",
       "18982    0.285714\n",
       "18983    0.305085\n",
       "18984    0.321429\n",
       "18985    0.301887\n",
       "Name: title, Length: 18986, dtype: float64"
      ]
     },
     "execution_count": 38,
     "metadata": {},
     "output_type": "execute_result"
    }
   ],
   "source": [
    "df.title.apply(lambda x: similar(x, 'shigneki on kojin'))"
   ]
  },
  {
   "cell_type": "code",
   "execution_count": 35,
   "metadata": {},
   "outputs": [
    {
     "data": {
      "text/html": [
       "<div>\n",
       "<style scoped>\n",
       "    .dataframe tbody tr th:only-of-type {\n",
       "        vertical-align: middle;\n",
       "    }\n",
       "\n",
       "    .dataframe tbody tr th {\n",
       "        vertical-align: top;\n",
       "    }\n",
       "\n",
       "    .dataframe thead th {\n",
       "        text-align: right;\n",
       "    }\n",
       "</style>\n",
       "<table border=\"1\" class=\"dataframe\">\n",
       "  <thead>\n",
       "    <tr style=\"text-align: right;\">\n",
       "      <th></th>\n",
       "      <th>mal_id</th>\n",
       "      <th>url</th>\n",
       "      <th>image_url</th>\n",
       "      <th>trailer_url</th>\n",
       "      <th>title</th>\n",
       "      <th>title_en</th>\n",
       "      <th>title_jp</th>\n",
       "      <th>title_synonyms</th>\n",
       "      <th>type</th>\n",
       "      <th>source</th>\n",
       "      <th>...</th>\n",
       "      <th>mal_members</th>\n",
       "      <th>mal_favorites</th>\n",
       "      <th>related</th>\n",
       "      <th>producers</th>\n",
       "      <th>licensors</th>\n",
       "      <th>studios</th>\n",
       "      <th>genres</th>\n",
       "      <th>opening_themes</th>\n",
       "      <th>ending_themes</th>\n",
       "      <th>nova</th>\n",
       "    </tr>\n",
       "  </thead>\n",
       "  <tbody>\n",
       "    <tr>\n",
       "      <th>6316</th>\n",
       "      <td>16498</td>\n",
       "      <td>https://myanimelist.net/anime/16498/Shingeki_n...</td>\n",
       "      <td>https://cdn.myanimelist.net/images/anime/10/47...</td>\n",
       "      <td>https://www.youtube.com/embed/LHtdKWJdif4?enab...</td>\n",
       "      <td>Shingeki no Kyojin</td>\n",
       "      <td>Attack on Titan</td>\n",
       "      <td>進撃の巨人</td>\n",
       "      <td>[AoT]</td>\n",
       "      <td>TV</td>\n",
       "      <td>Manga</td>\n",
       "      <td>...</td>\n",
       "      <td>2799964</td>\n",
       "      <td>123075</td>\n",
       "      <td>{'Adaptation': [{'mal_id': 23390, 'type': 'man...</td>\n",
       "      <td>[{'mal_id': 10, 'type': 'anime', 'name': 'Prod...</td>\n",
       "      <td>[{'mal_id': 102, 'type': 'anime', 'name': 'Fun...</td>\n",
       "      <td>[{'mal_id': 858, 'type': 'anime', 'name': 'Wit...</td>\n",
       "      <td>[{'mal_id': 1, 'type': 'anime', 'name': 'Actio...</td>\n",
       "      <td>[#1: \"Guren no Yumiya (紅蓮の弓矢)\" by Linked Horiz...</td>\n",
       "      <td>[#1: \"Utsukushiki Zankoku na Sekai (美しき残酷な世界)\"...</td>\n",
       "      <td>0.742857</td>\n",
       "    </tr>\n",
       "    <tr>\n",
       "      <th>6665</th>\n",
       "      <td>18397</td>\n",
       "      <td>https://myanimelist.net/anime/18397/Shingeki_n...</td>\n",
       "      <td>https://cdn.myanimelist.net/images/anime/9/592...</td>\n",
       "      <td>None</td>\n",
       "      <td>Shingeki no Kyojin OVA</td>\n",
       "      <td>None</td>\n",
       "      <td>進撃の巨人ＯＡＤ</td>\n",
       "      <td>[Shingeki no Kyojin: Ilse no Techou, Attack on...</td>\n",
       "      <td>OVA</td>\n",
       "      <td>Manga</td>\n",
       "      <td>...</td>\n",
       "      <td>332883</td>\n",
       "      <td>661</td>\n",
       "      <td>{'Parent story': [{'mal_id': 16498, 'type': 'a...</td>\n",
       "      <td>[{'mal_id': 10, 'type': 'anime', 'name': 'Prod...</td>\n",
       "      <td>[]</td>\n",
       "      <td>[{'mal_id': 858, 'type': 'anime', 'name': 'Wit...</td>\n",
       "      <td>[{'mal_id': 1, 'type': 'anime', 'name': 'Actio...</td>\n",
       "      <td>[\"Guren no Yumiya (紅蓮の弓矢)\" by Linked Horizon]</td>\n",
       "      <td>[\"Utsukushiki Zankoku na Sekai (美しき残酷な世界)\" by ...</td>\n",
       "      <td>0.666667</td>\n",
       "    </tr>\n",
       "    <tr>\n",
       "      <th>8682</th>\n",
       "      <td>29919</td>\n",
       "      <td>https://myanimelist.net/anime/29919/Fushigi_na...</td>\n",
       "      <td>https://cdn.myanimelist.net/images/anime/12/71...</td>\n",
       "      <td>None</td>\n",
       "      <td>Fushigi na Taiko</td>\n",
       "      <td>None</td>\n",
       "      <td>ふしぎな太鼓</td>\n",
       "      <td>[]</td>\n",
       "      <td>Movie</td>\n",
       "      <td>Other</td>\n",
       "      <td>...</td>\n",
       "      <td>324</td>\n",
       "      <td>0</td>\n",
       "      <td>{}</td>\n",
       "      <td>[]</td>\n",
       "      <td>[]</td>\n",
       "      <td>[]</td>\n",
       "      <td>[{'mal_id': 15, 'type': 'anime', 'name': 'Kids...</td>\n",
       "      <td>[]</td>\n",
       "      <td>[]</td>\n",
       "      <td>0.606061</td>\n",
       "    </tr>\n",
       "  </tbody>\n",
       "</table>\n",
       "<p>3 rows × 35 columns</p>\n",
       "</div>"
      ],
      "text/plain": [
       "      mal_id                                                url  \\\n",
       "6316   16498  https://myanimelist.net/anime/16498/Shingeki_n...   \n",
       "6665   18397  https://myanimelist.net/anime/18397/Shingeki_n...   \n",
       "8682   29919  https://myanimelist.net/anime/29919/Fushigi_na...   \n",
       "\n",
       "                                              image_url  \\\n",
       "6316  https://cdn.myanimelist.net/images/anime/10/47...   \n",
       "6665  https://cdn.myanimelist.net/images/anime/9/592...   \n",
       "8682  https://cdn.myanimelist.net/images/anime/12/71...   \n",
       "\n",
       "                                            trailer_url  \\\n",
       "6316  https://www.youtube.com/embed/LHtdKWJdif4?enab...   \n",
       "6665                                               None   \n",
       "8682                                               None   \n",
       "\n",
       "                       title         title_en  title_jp  \\\n",
       "6316      Shingeki no Kyojin  Attack on Titan     進撃の巨人   \n",
       "6665  Shingeki no Kyojin OVA             None  進撃の巨人ＯＡＤ   \n",
       "8682        Fushigi na Taiko             None    ふしぎな太鼓   \n",
       "\n",
       "                                         title_synonyms   type source  ...  \\\n",
       "6316                                              [AoT]     TV  Manga  ...   \n",
       "6665  [Shingeki no Kyojin: Ilse no Techou, Attack on...    OVA  Manga  ...   \n",
       "8682                                                 []  Movie  Other  ...   \n",
       "\n",
       "      mal_members mal_favorites  \\\n",
       "6316      2799964        123075   \n",
       "6665       332883           661   \n",
       "8682          324             0   \n",
       "\n",
       "                                                related  \\\n",
       "6316  {'Adaptation': [{'mal_id': 23390, 'type': 'man...   \n",
       "6665  {'Parent story': [{'mal_id': 16498, 'type': 'a...   \n",
       "8682                                                 {}   \n",
       "\n",
       "                                              producers  \\\n",
       "6316  [{'mal_id': 10, 'type': 'anime', 'name': 'Prod...   \n",
       "6665  [{'mal_id': 10, 'type': 'anime', 'name': 'Prod...   \n",
       "8682                                                 []   \n",
       "\n",
       "                                              licensors  \\\n",
       "6316  [{'mal_id': 102, 'type': 'anime', 'name': 'Fun...   \n",
       "6665                                                 []   \n",
       "8682                                                 []   \n",
       "\n",
       "                                                studios  \\\n",
       "6316  [{'mal_id': 858, 'type': 'anime', 'name': 'Wit...   \n",
       "6665  [{'mal_id': 858, 'type': 'anime', 'name': 'Wit...   \n",
       "8682                                                 []   \n",
       "\n",
       "                                                 genres  \\\n",
       "6316  [{'mal_id': 1, 'type': 'anime', 'name': 'Actio...   \n",
       "6665  [{'mal_id': 1, 'type': 'anime', 'name': 'Actio...   \n",
       "8682  [{'mal_id': 15, 'type': 'anime', 'name': 'Kids...   \n",
       "\n",
       "                                         opening_themes  \\\n",
       "6316  [#1: \"Guren no Yumiya (紅蓮の弓矢)\" by Linked Horiz...   \n",
       "6665      [\"Guren no Yumiya (紅蓮の弓矢)\" by Linked Horizon]   \n",
       "8682                                                 []   \n",
       "\n",
       "                                          ending_themes      nova  \n",
       "6316  [#1: \"Utsukushiki Zankoku na Sekai (美しき残酷な世界)\"...  0.742857  \n",
       "6665  [\"Utsukushiki Zankoku na Sekai (美しき残酷な世界)\" by ...  0.666667  \n",
       "8682                                                 []  0.606061  \n",
       "\n",
       "[3 rows x 35 columns]"
      ]
     },
     "execution_count": 35,
     "metadata": {},
     "output_type": "execute_result"
    }
   ],
   "source": [
    "df.sort_values('nova', ascending=False).head(3)"
   ]
  },
  {
   "cell_type": "code",
   "execution_count": 29,
   "metadata": {},
   "outputs": [
    {
     "data": {
      "text/plain": [
       "0.4"
      ]
     },
     "execution_count": 29,
     "metadata": {},
     "output_type": "execute_result"
    }
   ],
   "source": [
    "from difflib import SequenceMatcher\n",
    "\n",
    "def similar(a, b):\n",
    "    return SequenceMatcher(None, a, b).ratio()\n",
    "\n",
    "similar('shingeki', 'jjajajajshingekiasdfsdfasdfsdfds')"
   ]
  },
  {
   "cell_type": "code",
   "execution_count": 23,
   "metadata": {},
   "outputs": [
    {
     "data": {
      "text/plain": [
       "(29, 34)"
      ]
     },
     "execution_count": 23,
     "metadata": {},
     "output_type": "execute_result"
    }
   ],
   "source": [
    "df[df.title.str.lower().str.contains('shinge')].shape"
   ]
  },
  {
   "cell_type": "code",
   "execution_count": 9,
   "metadata": {},
   "outputs": [],
   "source": [
    "import pandas as pd\n",
    "\n",
    "df = pd.read_json('../data/animes.json')\n",
    "\n",
    "reduced = ['mal_id', 'title', 'mal_members', 'mal_score', 'image_url', 'episodes', 'type', 'synopsis', 'aired_start', 'genres']\n",
    "\n",
    "keys = ['url', 'status', 'airing', 'aired_end', 'episode_duration', 'mal_rank', 'mal_popularity']\n",
    "\n",
    "mayb = ['source']\n",
    "\n",
    "nope = ['trailer_url', 'title_en', 'title_jp', 'title_synonyms', 'premiered', 'broadcast', 'background', 'mal_rating', 'mal_reviewer',\n",
    "        'mal_favorites', 'related', 'producers', 'licensors', 'studios', 'opening_themes', 'ending_themes']"
   ]
  },
  {
   "cell_type": "code",
   "execution_count": 11,
   "metadata": {},
   "outputs": [
    {
     "data": {
      "text/plain": [
       "0        [{'mal_id': 1, 'type': 'anime', 'name': 'Actio...\n",
       "1        [{'mal_id': 1, 'type': 'anime', 'name': 'Actio...\n",
       "2        [{'mal_id': 1, 'type': 'anime', 'name': 'Actio...\n",
       "3        [{'mal_id': 1, 'type': 'anime', 'name': 'Actio...\n",
       "4        [{'mal_id': 2, 'type': 'anime', 'name': 'Adven...\n",
       "                               ...                        \n",
       "18981    [{'mal_id': 15, 'type': 'anime', 'name': 'Kids...\n",
       "18982    [{'mal_id': 15, 'type': 'anime', 'name': 'Kids...\n",
       "18983    [{'mal_id': 15, 'type': 'anime', 'name': 'Kids...\n",
       "18984    [{'mal_id': 15, 'type': 'anime', 'name': 'Kids...\n",
       "18985    [{'mal_id': 15, 'type': 'anime', 'name': 'Kids...\n",
       "Name: genres, Length: 18986, dtype: object"
      ]
     },
     "execution_count": 11,
     "metadata": {},
     "output_type": "execute_result"
    }
   ],
   "source": [
    "df['genres']"
   ]
  },
  {
   "cell_type": "code",
   "execution_count": 16,
   "metadata": {},
   "outputs": [
    {
     "data": {
      "text/plain": [
       "Index(['mal_id', 'url', 'image_url', 'trailer_url', 'title', 'title_en',\n",
       "       'title_jp', 'title_synonyms', 'type', 'source', 'episodes', 'status',\n",
       "       'airing', 'aired_start', 'aired_end', 'premiered', 'broadcast',\n",
       "       'episode_duration', 'synopsis', 'background', 'mal_rating', 'mal_score',\n",
       "       'mal_reviewer', 'mal_rank', 'mal_popularity', 'mal_members',\n",
       "       'mal_favorites', 'related', 'producers', 'licensors', 'studios',\n",
       "       'genres', 'opening_themes', 'ending_themes'],\n",
       "      dtype='object')"
      ]
     },
     "execution_count": 16,
     "metadata": {},
     "output_type": "execute_result"
    }
   ],
   "source": [
    "df.columns"
   ]
  },
  {
   "cell_type": "code",
   "execution_count": 4,
   "metadata": {},
   "outputs": [
    {
     "data": {
      "text/html": [
       "<div>\n",
       "<style scoped>\n",
       "    .dataframe tbody tr th:only-of-type {\n",
       "        vertical-align: middle;\n",
       "    }\n",
       "\n",
       "    .dataframe tbody tr th {\n",
       "        vertical-align: top;\n",
       "    }\n",
       "\n",
       "    .dataframe thead th {\n",
       "        text-align: right;\n",
       "    }\n",
       "</style>\n",
       "<table border=\"1\" class=\"dataframe\">\n",
       "  <thead>\n",
       "    <tr style=\"text-align: right;\">\n",
       "      <th></th>\n",
       "      <th>mal_id</th>\n",
       "      <th>title</th>\n",
       "      <th>mal_popularity</th>\n",
       "      <th>mal_score</th>\n",
       "      <th>image_url</th>\n",
       "      <th>episodes</th>\n",
       "      <th>type</th>\n",
       "      <th>synopsis</th>\n",
       "    </tr>\n",
       "  </thead>\n",
       "  <tbody>\n",
       "    <tr>\n",
       "      <th>0</th>\n",
       "      <td>1</td>\n",
       "      <td>Cowboy Bebop</td>\n",
       "      <td>42</td>\n",
       "      <td>8.77</td>\n",
       "      <td>https://cdn.myanimelist.net/images/anime/4/196...</td>\n",
       "      <td>26.0</td>\n",
       "      <td>TV</td>\n",
       "      <td>In the year 2071, humanity has colonized sever...</td>\n",
       "    </tr>\n",
       "    <tr>\n",
       "      <th>1</th>\n",
       "      <td>5</td>\n",
       "      <td>Cowboy Bebop: Tengoku no Tobira</td>\n",
       "      <td>539</td>\n",
       "      <td>8.39</td>\n",
       "      <td>https://cdn.myanimelist.net/images/anime/1439/...</td>\n",
       "      <td>1.0</td>\n",
       "      <td>Movie</td>\n",
       "      <td>Another day, another bounty—such is the life o...</td>\n",
       "    </tr>\n",
       "    <tr>\n",
       "      <th>2</th>\n",
       "      <td>6</td>\n",
       "      <td>Trigun</td>\n",
       "      <td>211</td>\n",
       "      <td>8.23</td>\n",
       "      <td>https://cdn.myanimelist.net/images/anime/7/203...</td>\n",
       "      <td>26.0</td>\n",
       "      <td>TV</td>\n",
       "      <td>Vash the Stampede is the man with a $$60,000,0...</td>\n",
       "    </tr>\n",
       "    <tr>\n",
       "      <th>3</th>\n",
       "      <td>7</td>\n",
       "      <td>Witch Hunter Robin</td>\n",
       "      <td>1527</td>\n",
       "      <td>7.27</td>\n",
       "      <td>https://cdn.myanimelist.net/images/anime/1796/...</td>\n",
       "      <td>26.0</td>\n",
       "      <td>TV</td>\n",
       "      <td>Witches are individuals with special powers li...</td>\n",
       "    </tr>\n",
       "    <tr>\n",
       "      <th>4</th>\n",
       "      <td>8</td>\n",
       "      <td>Bouken Ou Beet</td>\n",
       "      <td>4486</td>\n",
       "      <td>6.97</td>\n",
       "      <td>https://cdn.myanimelist.net/images/anime/7/215...</td>\n",
       "      <td>52.0</td>\n",
       "      <td>TV</td>\n",
       "      <td>It is the dark century and the people are suff...</td>\n",
       "    </tr>\n",
       "  </tbody>\n",
       "</table>\n",
       "</div>"
      ],
      "text/plain": [
       "   mal_id                            title  mal_popularity  mal_score  \\\n",
       "0       1                     Cowboy Bebop              42       8.77   \n",
       "1       5  Cowboy Bebop: Tengoku no Tobira             539       8.39   \n",
       "2       6                           Trigun             211       8.23   \n",
       "3       7               Witch Hunter Robin            1527       7.27   \n",
       "4       8                   Bouken Ou Beet            4486       6.97   \n",
       "\n",
       "                                           image_url  episodes   type  \\\n",
       "0  https://cdn.myanimelist.net/images/anime/4/196...      26.0     TV   \n",
       "1  https://cdn.myanimelist.net/images/anime/1439/...       1.0  Movie   \n",
       "2  https://cdn.myanimelist.net/images/anime/7/203...      26.0     TV   \n",
       "3  https://cdn.myanimelist.net/images/anime/1796/...      26.0     TV   \n",
       "4  https://cdn.myanimelist.net/images/anime/7/215...      52.0     TV   \n",
       "\n",
       "                                            synopsis  \n",
       "0  In the year 2071, humanity has colonized sever...  \n",
       "1  Another day, another bounty—such is the life o...  \n",
       "2  Vash the Stampede is the man with a $$60,000,0...  \n",
       "3  Witches are individuals with special powers li...  \n",
       "4  It is the dark century and the people are suff...  "
      ]
     },
     "execution_count": 4,
     "metadata": {},
     "output_type": "execute_result"
    }
   ],
   "source": [
    "import pandas as pd\n",
    "\n",
    "anime = pd.read_json('../data/animes_reduced.json')\n",
    "anime.head()"
   ]
  },
  {
   "cell_type": "code",
   "execution_count": null,
   "metadata": {},
   "outputs": [],
   "source": []
  }
 ],
 "metadata": {
  "interpreter": {
   "hash": "ad2117d8da04c720903da65ba8862d63b2fb82849cd17efbeca69c80f28b43db"
  },
  "kernelspec": {
   "display_name": "Python 3.10.1 64-bit",
   "language": "python",
   "name": "python3"
  },
  "language_info": {
   "codemirror_mode": {
    "name": "ipython",
    "version": 3
   },
   "file_extension": ".py",
   "mimetype": "text/x-python",
   "name": "python",
   "nbconvert_exporter": "python",
   "pygments_lexer": "ipython3",
   "version": "3.10.1"
  },
  "orig_nbformat": 4
 },
 "nbformat": 4,
 "nbformat_minor": 2
}
